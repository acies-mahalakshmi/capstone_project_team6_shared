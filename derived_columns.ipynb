{
 "cells": [
  {
   "cell_type": "code",
   "execution_count": 1,
   "metadata": {},
   "outputs": [
    {
     "name": "stdout",
     "output_type": "stream",
     "text": [
      "File successfully updated: Reimbursement_combined.csv\n"
     ]
    }
   ],
   "source": [
    "import pandas as pd\n",
    "import json\n",
    "\n",
    "# Load CSV file\n",
    "df = pd.read_csv(\"Reimbursement_combined.csv\")  # Ensure the correct file path\n",
    "\n",
    "# Convert 'Bill' column from string to a list of dictionaries\n",
    "df[\"Bill\"] = df[\"Bill\"].apply(lambda x: json.loads(x)[0])  # Extract first dictionary\n",
    "\n",
    "# Expand JSON columns\n",
    "df_expanded = df[\"Bill\"].apply(pd.Series)\n",
    "\n",
    "# Merge with original data (if needed) and remove the original 'Bill' column\n",
    "df_final = df.drop(columns=[\"Bill\"]).join(df_expanded)\n",
    "\n",
    "# Overwrite the same file\n",
    "df_final.to_csv(\"Reimbursement_combined.csv\", index=False)\n",
    "\n",
    "print(\"File successfully updated: Reimbursement_combined.csv\")\n"
   ]
  },
  {
   "cell_type": "markdown",
   "metadata": {},
   "source": [
    "Correcting the seating location names"
   ]
  },
  {
   "cell_type": "code",
   "execution_count": 2,
   "metadata": {},
   "outputs": [],
   "source": [
    "df = pd.read_csv(\"Reimbursement_combined.csv\")\n",
    "df['Seating Location'] = df['Seating Location'].replace('Workafella, Chennai', 'Chennai')\n",
    "df['Seating Location'] = df['Seating Location'].replace('Bhive, Bangalore', 'Bangalore')\n",
    "df.to_csv(\"Reimbursement_combined.csv\", index=False)"
   ]
  }
 ],
 "metadata": {
  "kernelspec": {
   "display_name": "Python 3",
   "language": "python",
   "name": "python3"
  },
  "language_info": {
   "codemirror_mode": {
    "name": "ipython",
    "version": 3
   },
   "file_extension": ".py",
   "mimetype": "text/x-python",
   "name": "python",
   "nbconvert_exporter": "python",
   "pygments_lexer": "ipython3",
   "version": "3.10.11"
  }
 },
 "nbformat": 4,
 "nbformat_minor": 2
}
