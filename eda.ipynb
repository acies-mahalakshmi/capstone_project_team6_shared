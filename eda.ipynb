{
 "cells": [
  {
   "cell_type": "code",
   "execution_count": 40,
   "metadata": {},
   "outputs": [],
   "source": [
    "import pandas as pd\n",
    "\n",
    "df = pd.read_csv(\"cleaned_file.csv\")"
   ]
  },
  {
   "cell_type": "code",
   "execution_count": 41,
   "metadata": {},
   "outputs": [
    {
     "name": "stdout",
     "output_type": "stream",
     "text": [
      "Number of unique rows: 786\n"
     ]
    }
   ],
   "source": [
    "num_unique_rows = df.drop_duplicates().shape[0]\n",
    "print(f\"Number of unique rows: {num_unique_rows}\")\n"
   ]
  },
  {
   "cell_type": "code",
   "execution_count": 42,
   "metadata": {},
   "outputs": [
    {
     "name": "stdout",
     "output_type": "stream",
     "text": [
      "Number of Bill Dates in the future compared to Claim Date: 304\n"
     ]
    },
    {
     "name": "stderr",
     "output_type": "stream",
     "text": [
      "C:\\Users\\DYNABOOK\\AppData\\Local\\Temp\\ipykernel_12652\\1909333884.py:6: UserWarning: Parsing dates in %d-%m-%Y format when dayfirst=False (the default) was specified. Pass `dayfirst=True` or specify a format to silence this warning.\n",
      "  df['Claim Date'] = pd.to_datetime(df['Claim Date'], errors='coerce')\n"
     ]
    }
   ],
   "source": [
    "# Load the CSV file\n",
    "file_path = \"cleaned_file.csv\"  # Replace with the actual file path\n",
    "df = pd.read_csv(file_path)\n",
    "\n",
    "# Convert date columns to datetime format\n",
    "df['Claim Date'] = pd.to_datetime(df['Claim Date'], errors='coerce')\n",
    "df['Bill_Date'] = pd.to_datetime(df['Bill_Date'], errors='coerce')\n",
    "\n",
    "# Find rows where Bill Date is in the future compared to Claim Date\n",
    "future_bill_dates = df[df['Bill_Date'] > df['Claim Date']]\n",
    "\n",
    "# Count the number of such occurrences\n",
    "num_future_bills = len(future_bill_dates)\n",
    "\n",
    "print(f\"Number of Bill Dates in the future compared to Claim Date: {num_future_bills}\")"
   ]
  },
  {
   "cell_type": "code",
   "execution_count": 44,
   "metadata": {},
   "outputs": [
    {
     "name": "stdout",
     "output_type": "stream",
     "text": [
      "Number of Bill Dates that are not Fridays: 67\n"
     ]
    }
   ],
   "source": [
    "# Find rows where Bill Date is NOT a Friday\n",
    "non_friday_bills = df[df['Bill_Date'].dt.day_name() == 'Friday']\n",
    "\n",
    "# Count the number of such occurrences\n",
    "num_non_friday_bills = len(non_friday_bills)\n",
    "\n",
    "print(f\"Number of Bill Dates that are not Fridays: {num_non_friday_bills}\")"
   ]
  }
 ],
 "metadata": {
  "kernelspec": {
   "display_name": "Python 3",
   "language": "python",
   "name": "python3"
  },
  "language_info": {
   "codemirror_mode": {
    "name": "ipython",
    "version": 3
   },
   "file_extension": ".py",
   "mimetype": "text/x-python",
   "name": "python",
   "nbconvert_exporter": "python",
   "pygments_lexer": "ipython3",
   "version": "3.10.11"
  }
 },
 "nbformat": 4,
 "nbformat_minor": 2
}
